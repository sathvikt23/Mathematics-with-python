{
 "cells": [
  {
   "cell_type": "code",
   "execution_count": null,
   "metadata": {},
   "outputs": [],
   "source": [
    "#Program on Partial Derivative of a given function\n",
    "from sympy import *\n",
    "x,y=symbols(\"x,y\")\n",
    "funct=(x**3)+(y**3)+(3*x*y)\n",
    "print(\"Partial derivative w.r.to x\",diff(funct,x))\n",
    "print(\"Partial derivative w.r.to y\",diff(funct,y))\n",
    "print(\"Second order Partial derivative w.r.to x\",diff(funct,x,x))\n",
    "print(\"Second order Partial derivative w.r.to y\",diff(funct,y,y))\n",
    "print(\"Second order Partial derivative w.r.to x,y\",diff(funct,x,y))\n",
    "print(\"Second order Partial derivative w.r.to y,x\",diff(funct,y,x))\n",
    "\n"
   ]
  },
  {
   "cell_type": "code",
   "execution_count": null,
   "metadata": {},
   "outputs": [],
   "source": [
    " #Program on Jacobian of the given function\n",
    "#with two functions\n",
    "from sympy import *\n",
    "x,y=symbols(\"x,y\")\n",
    "u=input(\"Enter function u: \")\n",
    "v=input(\"Enter function v: \")\n",
    "a1,a2=diff(u,x),diff(u,y)\n",
    "b1,b2=diff(v,x),diff(v,y)\n",
    "mat=Matrix([[a1,a2],[b1,b2]])\n",
    "Jacobian=mat.det()\n",
    "print(\"Jacobian of u,v w.r.to x,y is\",Jacobian)\n",
    "if Jacobian==0:\n",
    "  print(\"The functions u and v are dependent\")\n",
    "else:\n",
    "  print(\"The functions u and v are independent\")\n",
    "\n"
   ]
  },
  {
   "cell_type": "code",
   "execution_count": null,
   "metadata": {},
   "outputs": [],
   "source": [
    "#Program on Jacobian of the given function\n",
    "#with three functions\n",
    "from sympy import *\n",
    "x,y,z=symbols(\"x,y,z\")\n",
    "u=input(\"Enter function u: \")\n",
    "v=input(\"Enter function v: \")\n",
    "w=input(\"Enter function w: \")\n",
    "a1,a2,a3=diff(u,x),diff(u,y),diff(u,z)\n",
    "b1,b2,b3=diff(v,x),diff(v,y),diff(v,z)\n",
    "c1,c2,c3=diff(w,x),diff(w,y),diff(w,z)\n",
    "mat=Matrix([[a1,a2,a3],[b1,b2,b3],[c1,c2,c3]])\n",
    "Jacobian=mat.det()\n",
    "print(\"Jacobian of u,v,w w.r.to x,y and z is\",Jacobian)\n",
    "if Jacobian==0:\n",
    "  print(\"The functions u,v,w are dependent\")\n",
    "else:\n",
    "  print(\"The functions u,v,w are independent\")\n",
    "\n"
   ]
  },
  {
   "cell_type": "code",
   "execution_count": null,
   "metadata": {},
   "outputs": [],
   "source": [
    " #Program on Gradient for a given function\n",
    "from numpy import *\n",
    "from sympy import *\n",
    "x,y,z=symbols(\"x,y,z\")\n",
    "u=input(\"Enter the function: \")\n",
    "a1=diff(u,x)\n",
    "a2=diff(u,y)\n",
    "a3=diff(u,z)\n",
    "grad=array([a1,a2,a3])\n",
    "print(\"Gradient of function u is: \",grad)\n",
    "\n"
   ]
  },
  {
   "cell_type": "code",
   "execution_count": null,
   "metadata": {},
   "outputs": [],
   "source": [
    "#Program to find Divergence a given function (u=f1i+f2j+f3k)\n",
    "from sympy import *\n",
    "x,y,z=symbols(\"x,y,z\")\n",
    "f1=input(\"Enter coefficient of i: \")\n",
    "f2=input(\"Enter coefficient of j: \")\n",
    "f3=input(\"Enter coefficient of k: \")\n",
    "a1=diff(f1,x)\n",
    "a2=diff(f2,y)\n",
    "a3=diff(f3,z)\n",
    "div=a1+a2+a3\n",
    "print(\"Divergence of function u is: \",div)\n",
    "\n"
   ]
  },
  {
   "cell_type": "code",
   "execution_count": null,
   "metadata": {},
   "outputs": [],
   "source": [
    "#Program to find Curl a given function (u=f1i+f2j+f3k)\n",
    "from sympy import *\n",
    "x,y,z=symbols(\"x,y,z\")\n",
    "f1=input(\"Enter coefficient of i: \")\n",
    "f2=input(\"Enter coefficient of j: \")\n",
    "f3=input(\"Enter coefficient of k: \")\n",
    "a1=diff(f3,y)-diff(f2,z)\n",
    "a2=diff(f3,x)-diff(f1,z)\n",
    "a3=diff(f2,x)-diff(f1,y)\n",
    "curl=array([a1,-a2,a3])\n",
    "print(\"Curl of function u is: \",curl)\n",
    "\n",
    "\"\"\"\n",
    "Sample I/O\n",
    "Enter coefficient of i: x*y*z\n",
    "Enter coefficient of j: (x**2)+y+z\n",
    "Enter coefficient of k: (x)+(y**2)+(z**2)\n",
    "Curl of function u is:  [2*y - 1 x*y - 1 -x*z + 2*x]\n",
    "\"\"\""
   ]
  }
 ],
 "metadata": {
  "language_info": {
   "name": "python"
  }
 },
 "nbformat": 4,
 "nbformat_minor": 2
}
